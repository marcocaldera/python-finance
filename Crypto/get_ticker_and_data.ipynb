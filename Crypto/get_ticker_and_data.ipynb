{
 "nbformat": 4,
 "nbformat_minor": 2,
 "metadata": {
  "language_info": {
   "name": "python",
   "codemirror_mode": {
    "name": "ipython",
    "version": 3
   },
   "version": "3.6.10-final"
  },
  "orig_nbformat": 2,
  "file_extension": ".py",
  "mimetype": "text/x-python",
  "name": "python",
  "npconvert_exporter": "python",
  "pygments_lexer": "ipython3",
  "version": 3,
  "kernelspec": {
   "name": "python3",
   "display_name": "Python 3"
  }
 },
 "cells": [
  {
   "cell_type": "markdown",
   "metadata": {},
   "source": [
    "# Estrazione ticker e dati storici"
   ]
  },
  {
   "cell_type": "markdown",
   "metadata": {},
   "source": [
    "### Get crypto ticker"
   ]
  },
  {
   "cell_type": "code",
   "execution_count": 1,
   "metadata": {},
   "outputs": [],
   "source": [
    "import bs4 as bs\n",
    "import pickle\n",
    "import requests"
   ]
  },
  {
   "cell_type": "code",
   "execution_count": 2,
   "metadata": {
    "tags": [
     "outputPrepend"
    ]
   },
   "outputs": [],
   "source": [
    "\n",
    "resp = requests.get('https://coinmarketcap.com/it/all/views/all/')\n",
    "soup = bs.BeautifulSoup(resp.text)\n",
    "\n",
    "table = soup.findAll(\n",
    "    'div',\n",
    "    {'class': 'cmc-table__table-wrapper-outer'}\n",
    ")[2]"
   ]
  },
  {
   "cell_type": "code",
   "execution_count": 3,
   "metadata": {},
   "outputs": [],
   "source": [
    "tickers = []\n",
    "for row in table.findAll('tr')[1:]:\n",
    "    ticker = row.findAll('td')[2].text.strip()\n",
    "    tickers.append(ticker)"
   ]
  },
  {
   "cell_type": "code",
   "execution_count": 4,
   "metadata": {},
   "outputs": [],
   "source": [
    "with open('crypto_ticker.pickle', 'wb') as f:\n",
    "    pickle.dump(tickers, f)"
   ]
  },
  {
   "cell_type": "markdown",
   "metadata": {},
   "source": [
    "### Download data from yahoo"
   ]
  },
  {
   "cell_type": "code",
   "execution_count": 5,
   "metadata": {},
   "outputs": [],
   "source": [
    "import datetime as dt\n",
    "import os\n",
    "import pandas as pd\n",
    "import pandas_datareader.data as web\n",
    "from pandas_datareader._utils import RemoteDataError"
   ]
  },
  {
   "cell_type": "code",
   "execution_count": 6,
   "metadata": {},
   "outputs": [],
   "source": [
    "# load\n",
    "with open('crypto_ticker.pickle', 'rb') as f:\n",
    "    tickers = pickle.load(f)"
   ]
  },
  {
   "cell_type": "code",
   "execution_count": 7,
   "metadata": {},
   "outputs": [],
   "source": [
    "if not os.path.exists('crypto'):\n",
    "    os.makedirs('crypto')\n",
    "\n",
    "start = dt.datetime(2010,1,1)\n",
    "end = dt.datetime(2020,3,20)"
   ]
  },
  {
   "cell_type": "code",
   "execution_count": 8,
   "metadata": {},
   "outputs": [
    {
     "output_type": "stream",
     "name": "stdout",
     "text": "Success: BTC\nSuccess: ETH\nSuccess: XRP\nSuccess: USDT\nSuccess: BCH\nError: BSV\nSuccess: LTC\nSuccess: EOS\nSuccess: BNB\nError: XTZ\nError: LEO\nSuccess: XLM\nSuccess: LINK\nError: HT\nSuccess: TRX\nSuccess: ADA\nSuccess: XMR\nError: USDC\nSuccess: DASH\nSuccess: ETC\nError: CRO\nError: HEDG\nSuccess: NEO\nError: ATOM\nSuccess: MIOTA\nSuccess: XEM\nSuccess: ZEC\nError: MKR\nError: OKB\nError: ONT\nError: PAX\nError: FTT\nSuccess: DOGE\nSuccess: BAT\nError: BUSD\nSuccess: VET\nError: TUSD\nSuccess: BTG\nSuccess: DCR\nSuccess: LSK\nError: HBAR\nSuccess: QTUM\nError: ZB\nSuccess: ICX\nError: ALGO\nSuccess: ZRX\nError: KCS\nSuccess: REP\nSuccess: WAVES\nError: BCD\n"
    }
   ],
   "source": [
    "for ticker in tickers[:50]:\n",
    "    if not os.path.exists('crypto/{}-USD.csv'.format(ticker)):\n",
    "        \n",
    "        try:\n",
    "            df = web.DataReader('{}-USD'.format(ticker), 'yahoo', start, end)\n",
    "            df.to_csv('crypto/{}.csv'.format(ticker))\n",
    "            print(\"Success: {}\".format(ticker))\n",
    "        except RemoteDataError:\n",
    "            print(\"Error: {}\".format(ticker))\n",
    "    else:\n",
    "        # print('Already exist {}'.format(ticker))\n",
    "        pass"
   ]
  },
  {
   "cell_type": "code",
   "execution_count": null,
   "metadata": {},
   "outputs": [],
   "source": []
  }
 ]
}