{
 "nbformat": 4,
 "nbformat_minor": 2,
 "metadata": {
  "language_info": {
   "name": "python",
   "codemirror_mode": {
    "name": "ipython",
    "version": 3
   },
   "version": "3.6.10-final"
  },
  "orig_nbformat": 2,
  "file_extension": ".py",
  "mimetype": "text/x-python",
  "name": "python",
  "npconvert_exporter": "python",
  "pygments_lexer": "ipython3",
  "version": 3,
  "kernelspec": {
   "name": "python3",
   "display_name": "Python 3"
  }
 },
 "cells": [
  {
   "cell_type": "code",
   "execution_count": 2,
   "metadata": {},
   "outputs": [],
   "source": [
    "import datetime as dt\n",
    "import os\n",
    "import pandas as pd\n",
    "import pickle\n",
    "import pandas_datareader.data as web\n",
    "import matplotlib.pyplot as plt\n",
    "from matplotlib import style\n",
    "import numpy as np\n",
    ""
   ]
  },
  {
   "cell_type": "code",
   "execution_count": 3,
   "metadata": {},
   "outputs": [],
   "source": [
    "style.use('ggplot')"
   ]
  },
  {
   "cell_type": "markdown",
   "metadata": {},
   "source": [
    "### Unione dati"
   ]
  },
  {
   "cell_type": "code",
   "execution_count": 4,
   "metadata": {},
   "outputs": [],
   "source": [
    "with open('crypto_ticker.pickle', 'rb') as f:\n",
    "    tickers = pickle.load(f)"
   ]
  },
  {
   "cell_type": "code",
   "execution_count": 5,
   "metadata": {},
   "outputs": [
    {
     "output_type": "execute_result",
     "data": {
      "text/plain": "                   BTC\nDate                  \n2014-09-16  457.334015\n2014-09-17  424.440002\n2014-09-18  394.795990\n2014-09-19  408.903992\n2014-09-20  398.821014",
      "text/html": "<div>\n<style scoped>\n    .dataframe tbody tr th:only-of-type {\n        vertical-align: middle;\n    }\n\n    .dataframe tbody tr th {\n        vertical-align: top;\n    }\n\n    .dataframe thead th {\n        text-align: right;\n    }\n</style>\n<table border=\"1\" class=\"dataframe\">\n  <thead>\n    <tr style=\"text-align: right;\">\n      <th></th>\n      <th>BTC</th>\n    </tr>\n    <tr>\n      <th>Date</th>\n      <th></th>\n    </tr>\n  </thead>\n  <tbody>\n    <tr>\n      <th>2014-09-16</th>\n      <td>457.334015</td>\n    </tr>\n    <tr>\n      <th>2014-09-17</th>\n      <td>424.440002</td>\n    </tr>\n    <tr>\n      <th>2014-09-18</th>\n      <td>394.795990</td>\n    </tr>\n    <tr>\n      <th>2014-09-19</th>\n      <td>408.903992</td>\n    </tr>\n    <tr>\n      <th>2014-09-20</th>\n      <td>398.821014</td>\n    </tr>\n  </tbody>\n</table>\n</div>"
     },
     "metadata": {},
     "execution_count": 5
    }
   ],
   "source": [
    "df = pd.read_csv('crypto/{}.csv'.format('BTC'))\n",
    "df.set_index('Date', inplace=True)\n",
    "\n",
    "df.rename(columns = {'Adj Close': 'BTC'}, inplace=True)\n",
    "df.drop(['Open','High','Low','Close','Volume'], 1, inplace=True)\n",
    "df.head()"
   ]
  },
  {
   "cell_type": "code",
   "execution_count": 6,
   "metadata": {},
   "outputs": [
    {
     "output_type": "stream",
     "name": "stdout",
     "text": "0\n10\n20\n"
    }
   ],
   "source": [
    "main_df = pd.DataFrame()\n",
    "for count, ticker in enumerate(tickers[:30]):\n",
    "    if count % 10 == 0:\n",
    "        print(count)\n",
    "\n",
    "    try:\n",
    "        df = pd.read_csv('crypto/{}.csv'.format(ticker))\n",
    "        df.set_index('Date', inplace=True)\n",
    "\n",
    "        df.rename(columns = {'Adj Close': ticker}, inplace=True)\n",
    "        df.drop(['Open','High','Low','Close','Volume'], 1, inplace=True)\n",
    "\n",
    "        if main_df.empty:\n",
    "            main_df = df\n",
    "        else: \n",
    "            main_df = main_df.join(df, how='outer')\n",
    "    except FileNotFoundError as e:\n",
    "        pass"
   ]
  },
  {
   "cell_type": "code",
   "execution_count": 7,
   "metadata": {},
   "outputs": [
    {
     "output_type": "execute_result",
     "data": {
      "text/plain": "                   BTC  ETH       XRP  USDT  BCH      LTC  EOS  BNB       XLM  \\\nDate                                                                            \n2014-09-16  457.334015  NaN  0.005399   NaN  NaN  5.05855  NaN  NaN  0.003072   \n2014-09-17  424.440002  NaN  0.005135   NaN  NaN  4.68523  NaN  NaN  0.003456   \n2014-09-18  394.795990  NaN  0.004942   NaN  NaN  4.32777  NaN  NaN  0.003872   \n2014-09-19  408.903992  NaN  0.004772   NaN  NaN  4.28644  NaN  NaN  0.003612   \n2014-09-20  398.821014  NaN  0.004570   NaN  NaN  4.24592  NaN  NaN  0.003464   \n\n            LINK  TRX  ADA      XMR     DASH  ETC  NEO  MIOTA  XEM  ZEC  \nDate                                                                     \n2014-09-16   NaN  NaN  NaN  1.76835  3.75394  NaN  NaN    NaN  NaN  NaN  \n2014-09-17   NaN  NaN  NaN  1.56928  3.86890  NaN  NaN    NaN  NaN  NaN  \n2014-09-18   NaN  NaN  NaN  1.45437  3.43210  NaN  NaN    NaN  NaN  NaN  \n2014-09-19   NaN  NaN  NaN  1.27121  3.18344  NaN  NaN    NaN  NaN  NaN  \n2014-09-20   NaN  NaN  NaN  1.27415  2.97051  NaN  NaN    NaN  NaN  NaN  ",
      "text/html": "<div>\n<style scoped>\n    .dataframe tbody tr th:only-of-type {\n        vertical-align: middle;\n    }\n\n    .dataframe tbody tr th {\n        vertical-align: top;\n    }\n\n    .dataframe thead th {\n        text-align: right;\n    }\n</style>\n<table border=\"1\" class=\"dataframe\">\n  <thead>\n    <tr style=\"text-align: right;\">\n      <th></th>\n      <th>BTC</th>\n      <th>ETH</th>\n      <th>XRP</th>\n      <th>USDT</th>\n      <th>BCH</th>\n      <th>LTC</th>\n      <th>EOS</th>\n      <th>BNB</th>\n      <th>XLM</th>\n      <th>LINK</th>\n      <th>TRX</th>\n      <th>ADA</th>\n      <th>XMR</th>\n      <th>DASH</th>\n      <th>ETC</th>\n      <th>NEO</th>\n      <th>MIOTA</th>\n      <th>XEM</th>\n      <th>ZEC</th>\n    </tr>\n    <tr>\n      <th>Date</th>\n      <th></th>\n      <th></th>\n      <th></th>\n      <th></th>\n      <th></th>\n      <th></th>\n      <th></th>\n      <th></th>\n      <th></th>\n      <th></th>\n      <th></th>\n      <th></th>\n      <th></th>\n      <th></th>\n      <th></th>\n      <th></th>\n      <th></th>\n      <th></th>\n      <th></th>\n    </tr>\n  </thead>\n  <tbody>\n    <tr>\n      <th>2014-09-16</th>\n      <td>457.334015</td>\n      <td>NaN</td>\n      <td>0.005399</td>\n      <td>NaN</td>\n      <td>NaN</td>\n      <td>5.05855</td>\n      <td>NaN</td>\n      <td>NaN</td>\n      <td>0.003072</td>\n      <td>NaN</td>\n      <td>NaN</td>\n      <td>NaN</td>\n      <td>1.76835</td>\n      <td>3.75394</td>\n      <td>NaN</td>\n      <td>NaN</td>\n      <td>NaN</td>\n      <td>NaN</td>\n      <td>NaN</td>\n    </tr>\n    <tr>\n      <th>2014-09-17</th>\n      <td>424.440002</td>\n      <td>NaN</td>\n      <td>0.005135</td>\n      <td>NaN</td>\n      <td>NaN</td>\n      <td>4.68523</td>\n      <td>NaN</td>\n      <td>NaN</td>\n      <td>0.003456</td>\n      <td>NaN</td>\n      <td>NaN</td>\n      <td>NaN</td>\n      <td>1.56928</td>\n      <td>3.86890</td>\n      <td>NaN</td>\n      <td>NaN</td>\n      <td>NaN</td>\n      <td>NaN</td>\n      <td>NaN</td>\n    </tr>\n    <tr>\n      <th>2014-09-18</th>\n      <td>394.795990</td>\n      <td>NaN</td>\n      <td>0.004942</td>\n      <td>NaN</td>\n      <td>NaN</td>\n      <td>4.32777</td>\n      <td>NaN</td>\n      <td>NaN</td>\n      <td>0.003872</td>\n      <td>NaN</td>\n      <td>NaN</td>\n      <td>NaN</td>\n      <td>1.45437</td>\n      <td>3.43210</td>\n      <td>NaN</td>\n      <td>NaN</td>\n      <td>NaN</td>\n      <td>NaN</td>\n      <td>NaN</td>\n    </tr>\n    <tr>\n      <th>2014-09-19</th>\n      <td>408.903992</td>\n      <td>NaN</td>\n      <td>0.004772</td>\n      <td>NaN</td>\n      <td>NaN</td>\n      <td>4.28644</td>\n      <td>NaN</td>\n      <td>NaN</td>\n      <td>0.003612</td>\n      <td>NaN</td>\n      <td>NaN</td>\n      <td>NaN</td>\n      <td>1.27121</td>\n      <td>3.18344</td>\n      <td>NaN</td>\n      <td>NaN</td>\n      <td>NaN</td>\n      <td>NaN</td>\n      <td>NaN</td>\n    </tr>\n    <tr>\n      <th>2014-09-20</th>\n      <td>398.821014</td>\n      <td>NaN</td>\n      <td>0.004570</td>\n      <td>NaN</td>\n      <td>NaN</td>\n      <td>4.24592</td>\n      <td>NaN</td>\n      <td>NaN</td>\n      <td>0.003464</td>\n      <td>NaN</td>\n      <td>NaN</td>\n      <td>NaN</td>\n      <td>1.27415</td>\n      <td>2.97051</td>\n      <td>NaN</td>\n      <td>NaN</td>\n      <td>NaN</td>\n      <td>NaN</td>\n      <td>NaN</td>\n    </tr>\n  </tbody>\n</table>\n</div>"
     },
     "metadata": {},
     "execution_count": 7
    }
   ],
   "source": [
    "main_df.head()"
   ]
  },
  {
   "cell_type": "code",
   "execution_count": 8,
   "metadata": {},
   "outputs": [
    {
     "output_type": "execute_result",
     "data": {
      "text/plain": "                    BTC         ETH       XRP      USDT         BCH  \\\nDate                                                                  \n2020-03-15  5392.314941  125.214302  0.153902  1.001987  178.311279   \n2020-03-16  5014.479980  110.605873  0.141063  0.997004  170.736649   \n2020-03-17  5225.629395  113.942749  0.144524  0.976145  180.326385   \n2020-03-18  5238.438477  114.842270  0.143100  0.974248  179.092331   \n2020-03-19  6191.192871  136.593857  0.165037  1.003193  221.268555   \n\n                  LTC       EOS        BNB       XLM      LINK       TRX  \\\nDate                                                                       \n2020-03-15  36.437092  2.050833  10.436018  0.038282  2.109211  0.010344   \n2020-03-16  32.876217  1.884314   9.386050  0.035161  1.779877  0.009561   \n2020-03-17  33.563869  1.930519  10.077175  0.036820  1.842805  0.009885   \n2020-03-18  33.684177  1.945424  10.119137  0.035979  1.887700  0.009934   \n2020-03-19  39.073765  2.290769  12.279640  0.041494  2.246666  0.011668   \n\n                 ADA        XMR       DASH       ETC       NEO     MIOTA  \\\nDate                                                                       \n2020-03-15  0.027120  38.070606  47.499184  5.056345  6.004697  0.132011   \n2020-03-16  0.024121  33.816479  42.945484  4.448968  5.377224  0.110195   \n2020-03-17  0.025243  35.366760  44.619865  4.526495  5.534018  0.120833   \n2020-03-18  0.025336  35.922001  59.593079  4.472723  5.546127  0.123403   \n2020-03-19  0.030451  41.103573  65.849304  5.058727  6.509382  0.169805   \n\n                 XEM        ZEC  \nDate                             \n2020-03-15  0.034255  25.783978  \n2020-03-16  0.032512  24.504303  \n2020-03-17  0.033534  24.647459  \n2020-03-18  0.034293  28.453094  \n2020-03-19  0.040339  32.052864  ",
      "text/html": "<div>\n<style scoped>\n    .dataframe tbody tr th:only-of-type {\n        vertical-align: middle;\n    }\n\n    .dataframe tbody tr th {\n        vertical-align: top;\n    }\n\n    .dataframe thead th {\n        text-align: right;\n    }\n</style>\n<table border=\"1\" class=\"dataframe\">\n  <thead>\n    <tr style=\"text-align: right;\">\n      <th></th>\n      <th>BTC</th>\n      <th>ETH</th>\n      <th>XRP</th>\n      <th>USDT</th>\n      <th>BCH</th>\n      <th>LTC</th>\n      <th>EOS</th>\n      <th>BNB</th>\n      <th>XLM</th>\n      <th>LINK</th>\n      <th>TRX</th>\n      <th>ADA</th>\n      <th>XMR</th>\n      <th>DASH</th>\n      <th>ETC</th>\n      <th>NEO</th>\n      <th>MIOTA</th>\n      <th>XEM</th>\n      <th>ZEC</th>\n    </tr>\n    <tr>\n      <th>Date</th>\n      <th></th>\n      <th></th>\n      <th></th>\n      <th></th>\n      <th></th>\n      <th></th>\n      <th></th>\n      <th></th>\n      <th></th>\n      <th></th>\n      <th></th>\n      <th></th>\n      <th></th>\n      <th></th>\n      <th></th>\n      <th></th>\n      <th></th>\n      <th></th>\n      <th></th>\n    </tr>\n  </thead>\n  <tbody>\n    <tr>\n      <th>2020-03-15</th>\n      <td>5392.314941</td>\n      <td>125.214302</td>\n      <td>0.153902</td>\n      <td>1.001987</td>\n      <td>178.311279</td>\n      <td>36.437092</td>\n      <td>2.050833</td>\n      <td>10.436018</td>\n      <td>0.038282</td>\n      <td>2.109211</td>\n      <td>0.010344</td>\n      <td>0.027120</td>\n      <td>38.070606</td>\n      <td>47.499184</td>\n      <td>5.056345</td>\n      <td>6.004697</td>\n      <td>0.132011</td>\n      <td>0.034255</td>\n      <td>25.783978</td>\n    </tr>\n    <tr>\n      <th>2020-03-16</th>\n      <td>5014.479980</td>\n      <td>110.605873</td>\n      <td>0.141063</td>\n      <td>0.997004</td>\n      <td>170.736649</td>\n      <td>32.876217</td>\n      <td>1.884314</td>\n      <td>9.386050</td>\n      <td>0.035161</td>\n      <td>1.779877</td>\n      <td>0.009561</td>\n      <td>0.024121</td>\n      <td>33.816479</td>\n      <td>42.945484</td>\n      <td>4.448968</td>\n      <td>5.377224</td>\n      <td>0.110195</td>\n      <td>0.032512</td>\n      <td>24.504303</td>\n    </tr>\n    <tr>\n      <th>2020-03-17</th>\n      <td>5225.629395</td>\n      <td>113.942749</td>\n      <td>0.144524</td>\n      <td>0.976145</td>\n      <td>180.326385</td>\n      <td>33.563869</td>\n      <td>1.930519</td>\n      <td>10.077175</td>\n      <td>0.036820</td>\n      <td>1.842805</td>\n      <td>0.009885</td>\n      <td>0.025243</td>\n      <td>35.366760</td>\n      <td>44.619865</td>\n      <td>4.526495</td>\n      <td>5.534018</td>\n      <td>0.120833</td>\n      <td>0.033534</td>\n      <td>24.647459</td>\n    </tr>\n    <tr>\n      <th>2020-03-18</th>\n      <td>5238.438477</td>\n      <td>114.842270</td>\n      <td>0.143100</td>\n      <td>0.974248</td>\n      <td>179.092331</td>\n      <td>33.684177</td>\n      <td>1.945424</td>\n      <td>10.119137</td>\n      <td>0.035979</td>\n      <td>1.887700</td>\n      <td>0.009934</td>\n      <td>0.025336</td>\n      <td>35.922001</td>\n      <td>59.593079</td>\n      <td>4.472723</td>\n      <td>5.546127</td>\n      <td>0.123403</td>\n      <td>0.034293</td>\n      <td>28.453094</td>\n    </tr>\n    <tr>\n      <th>2020-03-19</th>\n      <td>6191.192871</td>\n      <td>136.593857</td>\n      <td>0.165037</td>\n      <td>1.003193</td>\n      <td>221.268555</td>\n      <td>39.073765</td>\n      <td>2.290769</td>\n      <td>12.279640</td>\n      <td>0.041494</td>\n      <td>2.246666</td>\n      <td>0.011668</td>\n      <td>0.030451</td>\n      <td>41.103573</td>\n      <td>65.849304</td>\n      <td>5.058727</td>\n      <td>6.509382</td>\n      <td>0.169805</td>\n      <td>0.040339</td>\n      <td>32.052864</td>\n    </tr>\n  </tbody>\n</table>\n</div>"
     },
     "metadata": {},
     "execution_count": 8
    }
   ],
   "source": [
    "main_df.tail()"
   ]
  },
  {
   "cell_type": "code",
   "execution_count": 9,
   "metadata": {},
   "outputs": [],
   "source": [
    "main_df.to_csv('crypto_joined_closes.csv')"
   ]
  },
  {
   "cell_type": "markdown",
   "metadata": {},
   "source": [
    "### Correlazione di Pearson"
   ]
  },
  {
   "cell_type": "code",
   "execution_count": 10,
   "metadata": {},
   "outputs": [],
   "source": [
    "df = pd.read_csv('crypto_joined_closes.csv')"
   ]
  },
  {
   "cell_type": "code",
   "execution_count": 11,
   "metadata": {},
   "outputs": [],
   "source": [
    "num_of_crypto = 10"
   ]
  },
  {
   "cell_type": "code",
   "execution_count": 12,
   "metadata": {},
   "outputs": [],
   "source": [
    "df.set_index('Date', inplace=True)\n",
    "df_corr = df.pct_change().corr(method='pearson').iloc[:num_of_crypto,:num_of_crypto]"
   ]
  },
  {
   "cell_type": "code",
   "execution_count": 13,
   "metadata": {},
   "outputs": [
    {
     "output_type": "execute_result",
     "data": {
      "text/plain": "           BTC       ETH       XRP      USDT       BCH       LTC       EOS  \\\nBTC   1.000000  0.463102  0.304028 -0.028070  0.513914  0.593931  0.464074   \nETH   0.463102  1.000000  0.254990 -0.003394  0.607011  0.423362  0.540015   \nXRP   0.304028  0.254990  1.000000 -0.018630  0.427855  0.326780  0.410996   \nUSDT -0.028070 -0.003394 -0.018630  1.000000 -0.033233 -0.014581 -0.098678   \nBCH   0.513914  0.607011  0.427855 -0.033233  1.000000  0.521935  0.476932   \nLTC   0.593931  0.423362  0.326780 -0.014581  0.521935  1.000000  0.470965   \nEOS   0.464074  0.540015  0.410996 -0.098678  0.476932  0.470965  1.000000   \nBNB   0.492683  0.453720  0.291434 -0.042703  0.321092  0.411934  0.339560   \nXLM   0.323512  0.267134  0.486692 -0.013063  0.327758  0.308864  0.353895   \nLINK  0.216099  0.258400  0.190663  0.001959  0.173911  0.190671  0.198816   \n\n           BNB       XLM      LINK  \nBTC   0.492683  0.323512  0.216099  \nETH   0.453720  0.267134  0.258400  \nXRP   0.291434  0.486692  0.190663  \nUSDT -0.042703 -0.013063  0.001959  \nBCH   0.321092  0.327758  0.173911  \nLTC   0.411934  0.308864  0.190671  \nEOS   0.339560  0.353895  0.198816  \nBNB   1.000000  0.273869  0.177298  \nXLM   0.273869  1.000000  0.188228  \nLINK  0.177298  0.188228  1.000000  ",
      "text/html": "<div>\n<style scoped>\n    .dataframe tbody tr th:only-of-type {\n        vertical-align: middle;\n    }\n\n    .dataframe tbody tr th {\n        vertical-align: top;\n    }\n\n    .dataframe thead th {\n        text-align: right;\n    }\n</style>\n<table border=\"1\" class=\"dataframe\">\n  <thead>\n    <tr style=\"text-align: right;\">\n      <th></th>\n      <th>BTC</th>\n      <th>ETH</th>\n      <th>XRP</th>\n      <th>USDT</th>\n      <th>BCH</th>\n      <th>LTC</th>\n      <th>EOS</th>\n      <th>BNB</th>\n      <th>XLM</th>\n      <th>LINK</th>\n    </tr>\n  </thead>\n  <tbody>\n    <tr>\n      <th>BTC</th>\n      <td>1.000000</td>\n      <td>0.463102</td>\n      <td>0.304028</td>\n      <td>-0.028070</td>\n      <td>0.513914</td>\n      <td>0.593931</td>\n      <td>0.464074</td>\n      <td>0.492683</td>\n      <td>0.323512</td>\n      <td>0.216099</td>\n    </tr>\n    <tr>\n      <th>ETH</th>\n      <td>0.463102</td>\n      <td>1.000000</td>\n      <td>0.254990</td>\n      <td>-0.003394</td>\n      <td>0.607011</td>\n      <td>0.423362</td>\n      <td>0.540015</td>\n      <td>0.453720</td>\n      <td>0.267134</td>\n      <td>0.258400</td>\n    </tr>\n    <tr>\n      <th>XRP</th>\n      <td>0.304028</td>\n      <td>0.254990</td>\n      <td>1.000000</td>\n      <td>-0.018630</td>\n      <td>0.427855</td>\n      <td>0.326780</td>\n      <td>0.410996</td>\n      <td>0.291434</td>\n      <td>0.486692</td>\n      <td>0.190663</td>\n    </tr>\n    <tr>\n      <th>USDT</th>\n      <td>-0.028070</td>\n      <td>-0.003394</td>\n      <td>-0.018630</td>\n      <td>1.000000</td>\n      <td>-0.033233</td>\n      <td>-0.014581</td>\n      <td>-0.098678</td>\n      <td>-0.042703</td>\n      <td>-0.013063</td>\n      <td>0.001959</td>\n    </tr>\n    <tr>\n      <th>BCH</th>\n      <td>0.513914</td>\n      <td>0.607011</td>\n      <td>0.427855</td>\n      <td>-0.033233</td>\n      <td>1.000000</td>\n      <td>0.521935</td>\n      <td>0.476932</td>\n      <td>0.321092</td>\n      <td>0.327758</td>\n      <td>0.173911</td>\n    </tr>\n    <tr>\n      <th>LTC</th>\n      <td>0.593931</td>\n      <td>0.423362</td>\n      <td>0.326780</td>\n      <td>-0.014581</td>\n      <td>0.521935</td>\n      <td>1.000000</td>\n      <td>0.470965</td>\n      <td>0.411934</td>\n      <td>0.308864</td>\n      <td>0.190671</td>\n    </tr>\n    <tr>\n      <th>EOS</th>\n      <td>0.464074</td>\n      <td>0.540015</td>\n      <td>0.410996</td>\n      <td>-0.098678</td>\n      <td>0.476932</td>\n      <td>0.470965</td>\n      <td>1.000000</td>\n      <td>0.339560</td>\n      <td>0.353895</td>\n      <td>0.198816</td>\n    </tr>\n    <tr>\n      <th>BNB</th>\n      <td>0.492683</td>\n      <td>0.453720</td>\n      <td>0.291434</td>\n      <td>-0.042703</td>\n      <td>0.321092</td>\n      <td>0.411934</td>\n      <td>0.339560</td>\n      <td>1.000000</td>\n      <td>0.273869</td>\n      <td>0.177298</td>\n    </tr>\n    <tr>\n      <th>XLM</th>\n      <td>0.323512</td>\n      <td>0.267134</td>\n      <td>0.486692</td>\n      <td>-0.013063</td>\n      <td>0.327758</td>\n      <td>0.308864</td>\n      <td>0.353895</td>\n      <td>0.273869</td>\n      <td>1.000000</td>\n      <td>0.188228</td>\n    </tr>\n    <tr>\n      <th>LINK</th>\n      <td>0.216099</td>\n      <td>0.258400</td>\n      <td>0.190663</td>\n      <td>0.001959</td>\n      <td>0.173911</td>\n      <td>0.190671</td>\n      <td>0.198816</td>\n      <td>0.177298</td>\n      <td>0.188228</td>\n      <td>1.000000</td>\n    </tr>\n  </tbody>\n</table>\n</div>"
     },
     "metadata": {},
     "execution_count": 13
    }
   ],
   "source": [
    "df_corr.head(10)"
   ]
  },
  {
   "cell_type": "code",
   "execution_count": 18,
   "metadata": {},
   "outputs": [],
   "source": [
    "#%matplotlib auto\n",
    "\n",
    "data = df_corr.values\n",
    "fig = plt.figure()\n",
    "ax = fig.add_subplot(1,1,1)\n",
    "\n",
    "heatmap = ax.pcolor(data, cmap=plt.cm.RdYlGn) # Red Yellow Green\n",
    "fig.colorbar(heatmap)\n",
    "\n",
    "ax.set_xticks(np.arange(data.shape[0]) + 0.5, minor=False)\n",
    "ax.set_yticks(np.arange(data.shape[1]) + 0.5, minor=False)\n",
    "\n",
    "ax.invert_yaxis() # così row1 col1 sono uguali, row2, col2 idem, etc.\n",
    "ax.xaxis.tick_top() # ticks on top e non bottom\n",
    "\n",
    "\n",
    "column_labels = df_corr.columns\n",
    "row_labels = df_corr.index\n",
    "\n",
    "ax.set_xticklabels(column_labels)\n",
    "ax.set_yticklabels(row_labels)\n",
    "\n",
    "plt.xticks(rotation=90) # ruoto di 90° i tick sull'asse delle x\n",
    "heatmap.set_clim(-1,1)\n",
    "\n",
    "for y in range(data.shape[0]):\n",
    "    for x in range(data.shape[1]):\n",
    "        plt.text(x + 0.5, y + 0.5, '%.2f' % data[y, x],\n",
    "                 horizontalalignment='center',\n",
    "                 verticalalignment='center')\n",
    "\n",
    "\n",
    "\n",
    "plt.tight_layout()\n",
    "plt.show()"
   ]
  },
  {
   "cell_type": "code",
   "execution_count": 15,
   "metadata": {},
   "outputs": [
    {
     "output_type": "stream",
     "name": "stdout",
     "text": "Using matplotlib backend: MacOSX\n"
    }
   ],
   "source": [
    "%matplotlib auto\n",
    "import seaborn as sns\n",
    "\n",
    "#sns.heatmap(df_corr,annot=True,cmap=plt.cm.RdYlGn)\n",
    "#sns.heatmap(df_corr,annot=True,fmt='.2g',vmin=-1, vmax=1, center= 0, cbar_kws= {'orientation': 'horizontal'})\n",
    "sns.heatmap(df_corr,annot=True,cmap=plt.cm.RdYlGn,fmt='.2g',vmin=-1, vmax=1, center= 0)\n",
    "plt.show()"
   ]
  },
  {
   "cell_type": "code",
   "execution_count": null,
   "metadata": {},
   "outputs": [],
   "source": []
  }
 ]
}