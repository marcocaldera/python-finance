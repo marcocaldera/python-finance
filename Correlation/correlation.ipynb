{
 "nbformat": 4,
 "nbformat_minor": 2,
 "metadata": {
  "language_info": {
   "name": "python",
   "codemirror_mode": {
    "name": "ipython",
    "version": 3
   },
   "version": "3.6.10-final"
  },
  "orig_nbformat": 2,
  "file_extension": ".py",
  "mimetype": "text/x-python",
  "name": "python",
  "npconvert_exporter": "python",
  "pygments_lexer": "ipython3",
  "version": 3,
  "kernelspec": {
   "name": "python3",
   "display_name": "Python 3"
  }
 },
 "cells": [
  {
   "cell_type": "code",
   "execution_count": 59,
   "metadata": {},
   "outputs": [],
   "source": [
    "import datetime as dt\n",
    "import os\n",
    "import pandas as pd\n",
    "import pandas_datareader.data as web\n",
    "import plotly.offline as py\n",
    "import seaborn as sns\n",
    "import matplotlib.pyplot as plt\n",
    "#%matplotlib inline\n",
    "%matplotlib qt\n",
    "#%matplotlib notebook "
   ]
  },
  {
   "cell_type": "markdown",
   "metadata": {},
   "source": [
    "### Estrazione dati"
   ]
  },
  {
   "cell_type": "code",
   "execution_count": 60,
   "metadata": {},
   "outputs": [],
   "source": [
    "folder = 'correlation_value'\n",
    "tickers = ['BTC-USD', '^GSPC', 'GC=F']"
   ]
  },
  {
   "cell_type": "code",
   "execution_count": 61,
   "metadata": {},
   "outputs": [],
   "source": [
    "if not os.path.exists('{}'.format(folder)):\n",
    "    os.makedirs('{}'.format(folder))"
   ]
  },
  {
   "cell_type": "code",
   "execution_count": 62,
   "metadata": {},
   "outputs": [],
   "source": [
    "start = dt.datetime(2010,1,1)\n",
    "end = dt.datetime(2020,3,30)\n",
    "\n",
    "for ticker in tickers:\n",
    "    df = web.DataReader(ticker, 'yahoo', start, end)\n",
    "    df.to_csv('{}/{}.csv'.format(folder, ticker))"
   ]
  },
  {
   "cell_type": "markdown",
   "metadata": {},
   "source": [
    "### Unione dati"
   ]
  },
  {
   "cell_type": "code",
   "execution_count": 63,
   "metadata": {},
   "outputs": [],
   "source": [
    "main_df = pd.DataFrame()\n",
    "for i, ticker in enumerate(tickers):\n",
    "    df = pd.read_csv('{}/{}.csv'.format(folder, ticker))\n",
    "    df.set_index('Date', inplace=True)\n",
    "\n",
    "    df.rename(columns = {'Adj Close': ticker}, inplace=True)\n",
    "    df.drop(['Open','High','Low','Close','Volume'], 1, inplace=True)\n",
    "\n",
    "    if main_df.empty:\n",
    "        main_df = df\n",
    "    else: \n",
    "        main_df = main_df.join(df, how='outer')"
   ]
  },
  {
   "cell_type": "code",
   "execution_count": 68,
   "metadata": {},
   "outputs": [
    {
     "output_type": "execute_result",
     "data": {
      "text/plain": "            BTC-USD        ^GSPC         GC=F\nDate                                         \n2010-01-04      NaN  1132.989990  1117.699951\n2010-01-05      NaN  1136.520020  1118.099976\n2010-01-06      NaN  1137.140015  1135.900024\n2010-01-07      NaN  1141.689941  1133.099976\n2010-01-08      NaN  1144.979980  1138.199951\n2010-01-11      NaN  1146.979980  1150.699951\n2010-01-12      NaN  1136.219971  1128.900024",
      "text/html": "<div>\n<style scoped>\n    .dataframe tbody tr th:only-of-type {\n        vertical-align: middle;\n    }\n\n    .dataframe tbody tr th {\n        vertical-align: top;\n    }\n\n    .dataframe thead th {\n        text-align: right;\n    }\n</style>\n<table border=\"1\" class=\"dataframe\">\n  <thead>\n    <tr style=\"text-align: right;\">\n      <th></th>\n      <th>BTC-USD</th>\n      <th>^GSPC</th>\n      <th>GC=F</th>\n    </tr>\n    <tr>\n      <th>Date</th>\n      <th></th>\n      <th></th>\n      <th></th>\n    </tr>\n  </thead>\n  <tbody>\n    <tr>\n      <th>2010-01-04</th>\n      <td>NaN</td>\n      <td>1132.989990</td>\n      <td>1117.699951</td>\n    </tr>\n    <tr>\n      <th>2010-01-05</th>\n      <td>NaN</td>\n      <td>1136.520020</td>\n      <td>1118.099976</td>\n    </tr>\n    <tr>\n      <th>2010-01-06</th>\n      <td>NaN</td>\n      <td>1137.140015</td>\n      <td>1135.900024</td>\n    </tr>\n    <tr>\n      <th>2010-01-07</th>\n      <td>NaN</td>\n      <td>1141.689941</td>\n      <td>1133.099976</td>\n    </tr>\n    <tr>\n      <th>2010-01-08</th>\n      <td>NaN</td>\n      <td>1144.979980</td>\n      <td>1138.199951</td>\n    </tr>\n    <tr>\n      <th>2010-01-11</th>\n      <td>NaN</td>\n      <td>1146.979980</td>\n      <td>1150.699951</td>\n    </tr>\n    <tr>\n      <th>2010-01-12</th>\n      <td>NaN</td>\n      <td>1136.219971</td>\n      <td>1128.900024</td>\n    </tr>\n  </tbody>\n</table>\n</div>"
     },
     "metadata": {},
     "execution_count": 68
    }
   ],
   "source": [
    "main_df.head(7)"
   ]
  },
  {
   "cell_type": "code",
   "execution_count": 65,
   "metadata": {},
   "outputs": [
    {
     "output_type": "execute_result",
     "data": {
      "text/plain": "          BTC-USD    ^GSPC      GC=F\nBTC-USD  1.000000  0.10180  0.016773\n^GSPC    0.101800  1.00000 -0.004180\nGC=F     0.016773 -0.00418  1.000000",
      "text/html": "<div>\n<style scoped>\n    .dataframe tbody tr th:only-of-type {\n        vertical-align: middle;\n    }\n\n    .dataframe tbody tr th {\n        vertical-align: top;\n    }\n\n    .dataframe thead th {\n        text-align: right;\n    }\n</style>\n<table border=\"1\" class=\"dataframe\">\n  <thead>\n    <tr style=\"text-align: right;\">\n      <th></th>\n      <th>BTC-USD</th>\n      <th>^GSPC</th>\n      <th>GC=F</th>\n    </tr>\n  </thead>\n  <tbody>\n    <tr>\n      <th>BTC-USD</th>\n      <td>1.000000</td>\n      <td>0.10180</td>\n      <td>0.016773</td>\n    </tr>\n    <tr>\n      <th>^GSPC</th>\n      <td>0.101800</td>\n      <td>1.00000</td>\n      <td>-0.004180</td>\n    </tr>\n    <tr>\n      <th>GC=F</th>\n      <td>0.016773</td>\n      <td>-0.00418</td>\n      <td>1.000000</td>\n    </tr>\n  </tbody>\n</table>\n</div>"
     },
     "metadata": {},
     "execution_count": 65
    }
   ],
   "source": [
    "df_corr = main_df.pct_change().corr(method='pearson')\n",
    "\n",
    "df_corr.head()"
   ]
  },
  {
   "cell_type": "code",
   "execution_count": 66,
   "metadata": {},
   "outputs": [],
   "source": [
    "sns.heatmap(df_corr,annot=True,fmt='.2g',vmin=-1, vmax=1, center= 0)\n",
    "# plt.savefig('corr_10_20.pdf')\n",
    "plt.show()"
   ]
  },
  {
   "cell_type": "code",
   "execution_count": 67,
   "metadata": {},
   "outputs": [
    {
     "output_type": "execute_result",
     "data": {
      "text/plain": "<matplotlib.axes._subplots.AxesSubplot at 0x1a29e89518>"
     },
     "metadata": {},
     "execution_count": 67
    }
   ],
   "source": [
    "#main_df.plot(kind='scatter',x='BTC-USD',y='^GSPC',color='red')"
   ]
  },
  {
   "cell_type": "code",
   "execution_count": null,
   "metadata": {},
   "outputs": [],
   "source": []
  }
 ]
}