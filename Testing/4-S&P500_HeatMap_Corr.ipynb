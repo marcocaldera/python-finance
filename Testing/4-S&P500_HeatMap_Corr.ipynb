{
 "nbformat": 4,
 "nbformat_minor": 2,
 "metadata": {
  "language_info": {
   "name": "python",
   "codemirror_mode": {
    "name": "ipython",
    "version": 3
   },
   "version": "3.6.2-final"
  },
  "orig_nbformat": 2,
  "file_extension": ".py",
  "mimetype": "text/x-python",
  "name": "python",
  "npconvert_exporter": "python",
  "pygments_lexer": "ipython3",
  "version": 3,
  "kernelspec": {
   "name": "python3",
   "display_name": "Python 3"
  }
 },
 "cells": [
  {
   "cell_type": "code",
   "execution_count": 56,
   "metadata": {},
   "outputs": [],
   "source": [
    "import datetime as dt\n",
    "import os\n",
    "import pandas as pd\n",
    "import pickle\n",
    "import pandas_datareader.data as web\n",
    "import matplotlib.pyplot as plt\n",
    "from matplotlib import style\n",
    "import numpy as np"
   ]
  },
  {
   "cell_type": "code",
   "execution_count": 57,
   "metadata": {},
   "outputs": [],
   "source": [
    "style.use('ggplot')"
   ]
  },
  {
   "cell_type": "markdown",
   "metadata": {},
   "source": [
    "## Unione dati aziende S&P 500"
   ]
  },
  {
   "cell_type": "code",
   "execution_count": 58,
   "metadata": {},
   "outputs": [],
   "source": [
    "def compile_data():\n",
    "    with open('sp500ticker.pickle', 'rb') as f:\n",
    "        tickers = pickle.load(f)\n",
    "\n",
    "    main_df = pd.DataFrame()\n",
    "\n",
    "    for count, ticker in enumerate(tickers):\n",
    "        df = pd.read_csv('stock_dfs/{}.csv'.format(ticker))\n",
    "        df.set_index('Date', inplace=True)\n",
    "\n",
    "        df.rename(columns = {'Adj Close': ticker}, inplace=True)\n",
    "        df.drop(['Open','High','Low','Close','Volume'], 1, inplace=True)\n",
    "\n",
    "        if main_df.empty:\n",
    "            main_df = df\n",
    "        else: \n",
    "            main_df = main_df.join(df, how='outer')\n",
    "\n",
    "        if count % 100 == 0:\n",
    "            print(count)\n",
    "            \n",
    "    print(main_df.head())\n",
    "    main_df.to_csv('sp500_joined_closes.csv')"
   ]
  },
  {
   "cell_type": "code",
   "execution_count": 59,
   "metadata": {},
   "outputs": [
    {
     "output_type": "stream",
     "name": "stdout",
     "text": "0\n100\n200\n300\n400\n500\n                  MMM       ABT  ABBV      ABMD  ACN      ATVI       ADBE  \\\nDate                                                                        \n2000-01-03  26.346825  6.592210   NaN  18.25000  NaN  1.235628  16.274673   \n2000-01-04  25.299936  6.403859   NaN  17.81250  NaN  1.198042  14.909401   \n2000-01-05  26.032759  6.392088   NaN  18.00000  NaN  1.202740  15.204173   \n2000-01-06  28.126556  6.615753   NaN  18.03125  NaN  1.179249  15.328290   \n2000-01-07  28.684900  6.686383   NaN  17.93750  NaN  1.212137  16.072983   \n\n               AMD  AAP        AES  ...  WYNN       XEL        XRX       XLNX  \\\nDate                                ...                                         \n2000-01-03  15.500  NaN  28.582567  ...   NaN  7.782174  52.591202  33.437664   \n2000-01-04  14.625  NaN  27.449125  ...   NaN  7.961369  50.145103  32.677715   \n2000-01-05  15.000  NaN  27.744810  ...   NaN  8.268555  52.727116  31.962463   \n2000-01-06  16.000  NaN  27.966566  ...   NaN  8.191765  51.639961  29.190891   \n2000-01-07  16.250  NaN  28.508648  ...   NaN  8.191765  52.863003  32.498898   \n\n            XYL       YUM       ZBRA  ZBH       ZION  ZTS  \nDate                                                       \n2000-01-03  NaN  4.402331  25.027779  NaN  41.202934  NaN  \n2000-01-04  NaN  4.313842  24.666666  NaN  39.207741  NaN  \n2000-01-05  NaN  4.335964  25.138889  NaN  39.161343  NaN  \n2000-01-06  NaN  4.299095  23.777779  NaN  39.718132  NaN  \n2000-01-07  NaN  4.203231  23.513889  NaN  39.810936  NaN  \n\n[5 rows x 505 columns]\n"
    }
   ],
   "source": [
    "compile_data()"
   ]
  },
  {
   "cell_type": "markdown",
   "metadata": {},
   "source": [
    "### Correlazione di Pearson"
   ]
  },
  {
   "cell_type": "code",
   "execution_count": 60,
   "metadata": {},
   "outputs": [],
   "source": [
    "df = pd.read_csv('sp500_joined_closes.csv')"
   ]
  },
  {
   "cell_type": "markdown",
   "metadata": {},
   "source": [
    "Correlazione classica (basata sul prezzo)"
   ]
  },
  {
   "cell_type": "code",
   "execution_count": 61,
   "metadata": {},
   "outputs": [],
   "source": [
    "num_of_stocks = 10"
   ]
  },
  {
   "cell_type": "code",
   "execution_count": 62,
   "metadata": {},
   "outputs": [],
   "source": [
    "# df_corr = df.corr()\n",
    "\n",
    "# Prendo solo le prime 10 così da non complicare troppo il plot\n",
    "#df_corr = df.corr().iloc[:num_of_stocks,:num_of_stocks]"
   ]
  },
  {
   "cell_type": "markdown",
   "metadata": {},
   "source": [
    "Più corretto del blocco precedente perchè andiamo a paragonare i cambiamenti (in %) e non il prezzo come fatto in precedenza"
   ]
  },
  {
   "cell_type": "code",
   "execution_count": 63,
   "metadata": {},
   "outputs": [],
   "source": [
    "df.set_index('Date', inplace=True)\n",
    "df_corr = df.pct_change().corr(method='pearson').iloc[:num_of_stocks,:num_of_stocks]"
   ]
  },
  {
   "cell_type": "code",
   "execution_count": 64,
   "metadata": {},
   "outputs": [
    {
     "output_type": "execute_result",
     "data": {
      "text/plain": "           MMM       ABT      ABBV      ABMD       ACN      ATVI      ADBE  \\\nMMM   1.000000  0.371056  0.355435  0.239829  0.405725  0.284419  0.367514   \nABT   0.371056  1.000000  0.431787  0.199452  0.298373  0.195455  0.228945   \nABBV  0.355435  0.431787  1.000000  0.223734  0.326878  0.215362  0.319212   \nABMD  0.239829  0.199452  0.223734  1.000000  0.251986  0.196238  0.257796   \nACN   0.405725  0.298373  0.326878  0.251986  1.000000  0.328469  0.385512   \nATVI  0.284419  0.195455  0.215362  0.196238  0.328469  1.000000  0.334226   \nADBE  0.367514  0.228945  0.319212  0.257796  0.385512  0.334226  1.000000   \nAMD   0.275526  0.169157  0.158979  0.192561  0.301062  0.287719  0.364875   \nAAP   0.318081  0.237997  0.200883  0.166518  0.260642  0.236782  0.264920   \nAES   0.267034  0.178901  0.212210  0.159884  0.279881  0.217308  0.243266   \n\n           AMD       AAP       AES  \nMMM   0.275526  0.318081  0.267034  \nABT   0.169157  0.237997  0.178901  \nABBV  0.158979  0.200883  0.212210  \nABMD  0.192561  0.166518  0.159884  \nACN   0.301062  0.260642  0.279881  \nATVI  0.287719  0.236782  0.217308  \nADBE  0.364875  0.264920  0.243266  \nAMD   1.000000  0.178758  0.229645  \nAAP   0.178758  1.000000  0.206080  \nAES   0.229645  0.206080  1.000000  ",
      "text/html": "<div>\n<style scoped>\n    .dataframe tbody tr th:only-of-type {\n        vertical-align: middle;\n    }\n\n    .dataframe tbody tr th {\n        vertical-align: top;\n    }\n\n    .dataframe thead th {\n        text-align: right;\n    }\n</style>\n<table border=\"1\" class=\"dataframe\">\n  <thead>\n    <tr style=\"text-align: right;\">\n      <th></th>\n      <th>MMM</th>\n      <th>ABT</th>\n      <th>ABBV</th>\n      <th>ABMD</th>\n      <th>ACN</th>\n      <th>ATVI</th>\n      <th>ADBE</th>\n      <th>AMD</th>\n      <th>AAP</th>\n      <th>AES</th>\n    </tr>\n  </thead>\n  <tbody>\n    <tr>\n      <th>MMM</th>\n      <td>1.000000</td>\n      <td>0.371056</td>\n      <td>0.355435</td>\n      <td>0.239829</td>\n      <td>0.405725</td>\n      <td>0.284419</td>\n      <td>0.367514</td>\n      <td>0.275526</td>\n      <td>0.318081</td>\n      <td>0.267034</td>\n    </tr>\n    <tr>\n      <th>ABT</th>\n      <td>0.371056</td>\n      <td>1.000000</td>\n      <td>0.431787</td>\n      <td>0.199452</td>\n      <td>0.298373</td>\n      <td>0.195455</td>\n      <td>0.228945</td>\n      <td>0.169157</td>\n      <td>0.237997</td>\n      <td>0.178901</td>\n    </tr>\n    <tr>\n      <th>ABBV</th>\n      <td>0.355435</td>\n      <td>0.431787</td>\n      <td>1.000000</td>\n      <td>0.223734</td>\n      <td>0.326878</td>\n      <td>0.215362</td>\n      <td>0.319212</td>\n      <td>0.158979</td>\n      <td>0.200883</td>\n      <td>0.212210</td>\n    </tr>\n    <tr>\n      <th>ABMD</th>\n      <td>0.239829</td>\n      <td>0.199452</td>\n      <td>0.223734</td>\n      <td>1.000000</td>\n      <td>0.251986</td>\n      <td>0.196238</td>\n      <td>0.257796</td>\n      <td>0.192561</td>\n      <td>0.166518</td>\n      <td>0.159884</td>\n    </tr>\n    <tr>\n      <th>ACN</th>\n      <td>0.405725</td>\n      <td>0.298373</td>\n      <td>0.326878</td>\n      <td>0.251986</td>\n      <td>1.000000</td>\n      <td>0.328469</td>\n      <td>0.385512</td>\n      <td>0.301062</td>\n      <td>0.260642</td>\n      <td>0.279881</td>\n    </tr>\n    <tr>\n      <th>ATVI</th>\n      <td>0.284419</td>\n      <td>0.195455</td>\n      <td>0.215362</td>\n      <td>0.196238</td>\n      <td>0.328469</td>\n      <td>1.000000</td>\n      <td>0.334226</td>\n      <td>0.287719</td>\n      <td>0.236782</td>\n      <td>0.217308</td>\n    </tr>\n    <tr>\n      <th>ADBE</th>\n      <td>0.367514</td>\n      <td>0.228945</td>\n      <td>0.319212</td>\n      <td>0.257796</td>\n      <td>0.385512</td>\n      <td>0.334226</td>\n      <td>1.000000</td>\n      <td>0.364875</td>\n      <td>0.264920</td>\n      <td>0.243266</td>\n    </tr>\n    <tr>\n      <th>AMD</th>\n      <td>0.275526</td>\n      <td>0.169157</td>\n      <td>0.158979</td>\n      <td>0.192561</td>\n      <td>0.301062</td>\n      <td>0.287719</td>\n      <td>0.364875</td>\n      <td>1.000000</td>\n      <td>0.178758</td>\n      <td>0.229645</td>\n    </tr>\n    <tr>\n      <th>AAP</th>\n      <td>0.318081</td>\n      <td>0.237997</td>\n      <td>0.200883</td>\n      <td>0.166518</td>\n      <td>0.260642</td>\n      <td>0.236782</td>\n      <td>0.264920</td>\n      <td>0.178758</td>\n      <td>1.000000</td>\n      <td>0.206080</td>\n    </tr>\n    <tr>\n      <th>AES</th>\n      <td>0.267034</td>\n      <td>0.178901</td>\n      <td>0.212210</td>\n      <td>0.159884</td>\n      <td>0.279881</td>\n      <td>0.217308</td>\n      <td>0.243266</td>\n      <td>0.229645</td>\n      <td>0.206080</td>\n      <td>1.000000</td>\n    </tr>\n  </tbody>\n</table>\n</div>"
     },
     "metadata": {},
     "execution_count": 64
    }
   ],
   "source": [
    "df_corr.head(10)"
   ]
  },
  {
   "cell_type": "markdown",
   "metadata": {},
   "source": [
    "### Show heatmap plot"
   ]
  },
  {
   "cell_type": "code",
   "execution_count": 65,
   "metadata": {},
   "outputs": [],
   "source": [
    "#%matplotlib auto\n",
    "\n",
    "data = df_corr.values\n",
    "fig = plt.figure()\n",
    "ax = fig.add_subplot(1,1,1)\n",
    "\n",
    "heatmap = ax.pcolor(data, cmap=plt.cm.RdYlGn) # Red Yellow Green\n",
    "fig.colorbar(heatmap)\n",
    "\n",
    "ax.set_xticks(np.arange(data.shape[0]) + 0.5, minor=False)\n",
    "ax.set_yticks(np.arange(data.shape[1]) + 0.5, minor=False)\n",
    "\n",
    "ax.invert_yaxis() # così row1 col1 sono uguali, row2, col2 idem, etc.\n",
    "ax.xaxis.tick_top() # ticks on top e non bottom\n",
    "\n",
    "\n",
    "column_labels = df_corr.columns\n",
    "row_labels = df_corr.index\n",
    "\n",
    "ax.set_xticklabels(column_labels)\n",
    "ax.set_yticklabels(row_labels)\n",
    "\n",
    "plt.xticks(rotation=90) # ruoto di 90° i tick sull'asse delle x\n",
    "heatmap.set_clim(-1,1)\n",
    "\n",
    "plt.tight_layout()\n",
    "plt.show()"
   ]
  },
  {
   "cell_type": "markdown",
   "metadata": {},
   "source": [
    "### Metodo più veloce per stampare tutto"
   ]
  },
  {
   "cell_type": "code",
   "execution_count": 67,
   "metadata": {},
   "outputs": [],
   "source": [
    "#%matplotlib auto\n",
    "import seaborn as sns\n",
    "\n",
    "#sns.heatmap(df_corr,annot=True,cmap=plt.cm.RdYlGn)\n",
    "#sns.heatmap(df_corr,annot=True,fmt='.2g',vmin=-1, vmax=1, center= 0, cbar_kws= {'orientation': 'horizontal'})\n",
    "sns.heatmap(df_corr,annot=True,fmt='.2g',vmin=-1, vmax=1, center= 0)\n",
    "plt.show()"
   ]
  },
  {
   "cell_type": "code",
   "execution_count": null,
   "metadata": {},
   "outputs": [],
   "source": []
  }
 ]
}