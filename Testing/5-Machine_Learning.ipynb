{
 "nbformat": 4,
 "nbformat_minor": 2,
 "metadata": {
  "language_info": {
   "name": "python",
   "codemirror_mode": {
    "name": "ipython",
    "version": 3
   },
   "version": "3.6.2-final"
  },
  "orig_nbformat": 2,
  "file_extension": ".py",
  "mimetype": "text/x-python",
  "name": "python",
  "npconvert_exporter": "python",
  "pygments_lexer": "ipython3",
  "version": 3,
  "kernelspec": {
   "name": "python3",
   "display_name": "Python 3"
  }
 },
 "cells": [
  {
   "cell_type": "code",
   "execution_count": 2,
   "metadata": {},
   "outputs": [],
   "source": [
    "from collections import Counter\n",
    "import numpy as np\n",
    "import pandas as pd\n",
    "import pickle\n",
    "from sklearn import svm, neighbors\n",
    "from sklearn.model_selection import cross_val_score, train_test_split\n",
    "from sklearn.ensemble import VotingClassifier, RandomForestClassifier"
   ]
  },
  {
   "cell_type": "code",
   "execution_count": 13,
   "metadata": {},
   "outputs": [],
   "source": [
    "def process_data_for_labels(ticker):\n",
    "    hm_days = 7 # how many days\n",
    "    df = pd.read_csv('sp500_joined_closes.csv', index_col=0)\n",
    "    tickers = df.columns.values.tolist()\n",
    "    df.fillna(0, inplace=True)\n",
    "\n",
    "    for i in range (1, hm_days+1):\n",
    "        df['{}_{}d'.format(ticker, i)] = (df[ticker].shift(-i) - df[ticker]) / df[ticker]\n",
    "\n",
    "    df.fillna(0, inplace=True)\n",
    "    return tickers, df"
   ]
  },
  {
   "cell_type": "code",
   "execution_count": 14,
   "metadata": {},
   "outputs": [
    {
     "output_type": "execute_result",
     "data": {
      "text/plain": "                  MMM       ABT  ABBV      ABMD  ACN      ATVI       ADBE  \\\nDate                                                                        \n2000-01-03  26.346825  6.592210   0.0  18.25000  0.0  1.235628  16.274673   \n2000-01-04  25.299936  6.403859   0.0  17.81250  0.0  1.198042  14.909401   \n2000-01-05  26.032759  6.392088   0.0  18.00000  0.0  1.202740  15.204173   \n2000-01-06  28.126556  6.615753   0.0  18.03125  0.0  1.179249  15.328290   \n2000-01-07  28.684900  6.686383   0.0  17.93750  0.0  1.212137  16.072983   \n\n               AMD  AAP        AES  ...  ZBH       ZION  ZTS    XOM_1d  \\\nDate                                ...                                  \n2000-01-03  15.500  0.0  28.582567  ...  0.0  41.202934  0.0 -0.019154   \n2000-01-04  14.625  0.0  27.449125  ...  0.0  39.207741  0.0  0.054516   \n2000-01-05  15.000  0.0  27.744810  ...  0.0  39.161343  0.0  0.051698   \n2000-01-06  16.000  0.0  27.966566  ...  0.0  39.718132  0.0 -0.002935   \n2000-01-07  16.250  0.0  28.508648  ...  0.0  39.810936  0.0 -0.013981   \n\n              XOM_2d    XOM_3d    XOM_4d    XOM_5d    XOM_6d    XOM_7d  \nDate                                                                    \n2000-01-03  0.034317  0.087789  0.084597  0.069433  0.072626  0.066241  \n2000-01-04  0.109032  0.105777  0.090317  0.093572  0.087063  0.112287  \n2000-01-05  0.048611  0.033951  0.037038  0.030865  0.054784  0.033951  \n2000-01-06 -0.016875 -0.013939 -0.019809  0.002935 -0.016875 -0.005136  \n2000-01-07 -0.011037 -0.016924  0.005887 -0.013981 -0.002208  0.007358  \n\n[5 rows x 512 columns]",
      "text/html": "<div>\n<style scoped>\n    .dataframe tbody tr th:only-of-type {\n        vertical-align: middle;\n    }\n\n    .dataframe tbody tr th {\n        vertical-align: top;\n    }\n\n    .dataframe thead th {\n        text-align: right;\n    }\n</style>\n<table border=\"1\" class=\"dataframe\">\n  <thead>\n    <tr style=\"text-align: right;\">\n      <th></th>\n      <th>MMM</th>\n      <th>ABT</th>\n      <th>ABBV</th>\n      <th>ABMD</th>\n      <th>ACN</th>\n      <th>ATVI</th>\n      <th>ADBE</th>\n      <th>AMD</th>\n      <th>AAP</th>\n      <th>AES</th>\n      <th>...</th>\n      <th>ZBH</th>\n      <th>ZION</th>\n      <th>ZTS</th>\n      <th>XOM_1d</th>\n      <th>XOM_2d</th>\n      <th>XOM_3d</th>\n      <th>XOM_4d</th>\n      <th>XOM_5d</th>\n      <th>XOM_6d</th>\n      <th>XOM_7d</th>\n    </tr>\n    <tr>\n      <th>Date</th>\n      <th></th>\n      <th></th>\n      <th></th>\n      <th></th>\n      <th></th>\n      <th></th>\n      <th></th>\n      <th></th>\n      <th></th>\n      <th></th>\n      <th></th>\n      <th></th>\n      <th></th>\n      <th></th>\n      <th></th>\n      <th></th>\n      <th></th>\n      <th></th>\n      <th></th>\n      <th></th>\n      <th></th>\n    </tr>\n  </thead>\n  <tbody>\n    <tr>\n      <th>2000-01-03</th>\n      <td>26.346825</td>\n      <td>6.592210</td>\n      <td>0.0</td>\n      <td>18.25000</td>\n      <td>0.0</td>\n      <td>1.235628</td>\n      <td>16.274673</td>\n      <td>15.500</td>\n      <td>0.0</td>\n      <td>28.582567</td>\n      <td>...</td>\n      <td>0.0</td>\n      <td>41.202934</td>\n      <td>0.0</td>\n      <td>-0.019154</td>\n      <td>0.034317</td>\n      <td>0.087789</td>\n      <td>0.084597</td>\n      <td>0.069433</td>\n      <td>0.072626</td>\n      <td>0.066241</td>\n    </tr>\n    <tr>\n      <th>2000-01-04</th>\n      <td>25.299936</td>\n      <td>6.403859</td>\n      <td>0.0</td>\n      <td>17.81250</td>\n      <td>0.0</td>\n      <td>1.198042</td>\n      <td>14.909401</td>\n      <td>14.625</td>\n      <td>0.0</td>\n      <td>27.449125</td>\n      <td>...</td>\n      <td>0.0</td>\n      <td>39.207741</td>\n      <td>0.0</td>\n      <td>0.054516</td>\n      <td>0.109032</td>\n      <td>0.105777</td>\n      <td>0.090317</td>\n      <td>0.093572</td>\n      <td>0.087063</td>\n      <td>0.112287</td>\n    </tr>\n    <tr>\n      <th>2000-01-05</th>\n      <td>26.032759</td>\n      <td>6.392088</td>\n      <td>0.0</td>\n      <td>18.00000</td>\n      <td>0.0</td>\n      <td>1.202740</td>\n      <td>15.204173</td>\n      <td>15.000</td>\n      <td>0.0</td>\n      <td>27.744810</td>\n      <td>...</td>\n      <td>0.0</td>\n      <td>39.161343</td>\n      <td>0.0</td>\n      <td>0.051698</td>\n      <td>0.048611</td>\n      <td>0.033951</td>\n      <td>0.037038</td>\n      <td>0.030865</td>\n      <td>0.054784</td>\n      <td>0.033951</td>\n    </tr>\n    <tr>\n      <th>2000-01-06</th>\n      <td>28.126556</td>\n      <td>6.615753</td>\n      <td>0.0</td>\n      <td>18.03125</td>\n      <td>0.0</td>\n      <td>1.179249</td>\n      <td>15.328290</td>\n      <td>16.000</td>\n      <td>0.0</td>\n      <td>27.966566</td>\n      <td>...</td>\n      <td>0.0</td>\n      <td>39.718132</td>\n      <td>0.0</td>\n      <td>-0.002935</td>\n      <td>-0.016875</td>\n      <td>-0.013939</td>\n      <td>-0.019809</td>\n      <td>0.002935</td>\n      <td>-0.016875</td>\n      <td>-0.005136</td>\n    </tr>\n    <tr>\n      <th>2000-01-07</th>\n      <td>28.684900</td>\n      <td>6.686383</td>\n      <td>0.0</td>\n      <td>17.93750</td>\n      <td>0.0</td>\n      <td>1.212137</td>\n      <td>16.072983</td>\n      <td>16.250</td>\n      <td>0.0</td>\n      <td>28.508648</td>\n      <td>...</td>\n      <td>0.0</td>\n      <td>39.810936</td>\n      <td>0.0</td>\n      <td>-0.013981</td>\n      <td>-0.011037</td>\n      <td>-0.016924</td>\n      <td>0.005887</td>\n      <td>-0.013981</td>\n      <td>-0.002208</td>\n      <td>0.007358</td>\n    </tr>\n  </tbody>\n</table>\n<p>5 rows × 512 columns</p>\n</div>"
     },
     "metadata": {},
     "execution_count": 14
    }
   ],
   "source": [
    "tickers, df = process_data_for_labels('XOM')\n",
    "df.head()"
   ]
  },
  {
   "cell_type": "code",
   "execution_count": 26,
   "metadata": {},
   "outputs": [
    {
     "output_type": "execute_result",
     "data": {
      "text/plain": "(21.549222946166992, 21.1364688873291)"
     },
     "metadata": {},
     "execution_count": 26
    }
   ],
   "source": [
    "df.iloc[0]['XOM'], df.iloc[1]['XOM']"
   ]
  },
  {
   "cell_type": "code",
   "execution_count": 33,
   "metadata": {},
   "outputs": [
    {
     "output_type": "stream",
     "name": "stdout",
     "text": "-0.019154011254559324\n0.03431749285869134\n0.08778935101693672\n"
    }
   ],
   "source": [
    "print((df.iloc[1]['XOM'] - df.iloc[0]['XOM']) / df.iloc[0]['XOM'])\n",
    "print((df.iloc[2]['XOM'] - df.iloc[0]['XOM']) / df.iloc[0]['XOM'])\n",
    "print((df.iloc[3]['XOM'] - df.iloc[0]['XOM']) / df.iloc[0]['XOM'])"
   ]
  },
  {
   "cell_type": "code",
   "execution_count": null,
   "metadata": {},
   "outputs": [],
   "source": [
    "for i in range (1, hm_days+1):\n",
    "        df['{}_{}d'.format(ticker, i)] = (df[ticker].shift(-i) - df[ticker]) / df[ticker]"
   ]
  },
  {
   "cell_type": "code",
   "execution_count": 23,
   "metadata": {},
   "outputs": [
    {
     "output_type": "stream",
     "name": "stdout",
     "text": "2.1923373333631906\n2.1786127791301806\n2.197369374877799\n2.208349018264207\n2.2033166227046044\n2.2156688985368116\n2.199657213635795\n"
    }
   ],
   "source": [
    "for i in range(1,8):\n",
    "   diff = (df.iloc[-i]['XOM'] - df.iloc[0]['XOM']) / df.iloc[0]['XOM']\n",
    "   print(diff)"
   ]
  },
  {
   "cell_type": "code",
   "execution_count": 39,
   "metadata": {},
   "outputs": [],
   "source": [
    "def buy_sell_hold(*args):\n",
    "    cols = [c for c in args]\n",
    "    requirement = 0.025\n",
    "    for col in cols:\n",
    "        if col > requirement:\n",
    "            return 1\n",
    "        if col < -requirement:\n",
    "           return -1\n",
    "    return 0"
   ]
  },
  {
   "cell_type": "code",
   "execution_count": 40,
   "metadata": {},
   "outputs": [],
   "source": [
    "def extract_featuresets(ticker):\n",
    "    tickers, df = process_data_for_labels(ticker)\n",
    "    df['{}_target'.format(ticker)] = list(map(buy_sell_hold,\n",
    "                                                df['{}_1d'.format(ticker)],\n",
    "                                                df['{}_2d'.format(ticker)],\n",
    "                                                df['{}_3d'.format(ticker)],\n",
    "                                                df['{}_4d'.format(ticker)],\n",
    "                                                df['{}_5d'.format(ticker)],\n",
    "                                                df['{}_6d'.format(ticker)],\n",
    "                                                df['{}_7d'.format(ticker)],\n",
    "                                                ))\n",
    "\n",
    "    vals = df['{}_target'.format(ticker)].values.tolist()\n",
    "    str_vals = [str(i) for i in vals]\n",
    "    print('Data spread: ', Counter(str_vals))\n",
    "    df.fillna(0, inplace=True)\n",
    "    df = df.replace([np.inf, -np.inf], np.nan)\n",
    "    df.dropna(inplace=True)\n",
    "\n",
    "    df_vals = df[[ticker for ticker in tickers]].pct_change()\n",
    "    df_vals = df_vals.replace([np.inf, -np.inf], 0)\n",
    "    df_vals.fillna(0, inplace=True)\n",
    "\n",
    "    X = df_vals.values\n",
    "    y = df['{}_target'.format(ticker)].values\n",
    "\n",
    "    return X, y, df"
   ]
  },
  {
   "cell_type": "code",
   "execution_count": 41,
   "metadata": {},
   "outputs": [
    {
     "output_type": "stream",
     "name": "stdout",
     "text": "Data spread:  Counter({'0': 2049, '1': 1585, '-1': 1397})\n"
    }
   ],
   "source": [
    "X, t, df = extract_featuresets('XOM')"
   ]
  },
  {
   "cell_type": "code",
   "execution_count": 42,
   "metadata": {},
   "outputs": [
    {
     "output_type": "execute_result",
     "data": {
      "text/plain": "                  MMM       ABT  ABBV      ABMD  ACN      ATVI       ADBE  \\\nDate                                                                        \n2000-01-03  26.346825  6.592210   0.0  18.25000  0.0  1.235628  16.274673   \n2000-01-04  25.299936  6.403859   0.0  17.81250  0.0  1.198042  14.909401   \n2000-01-05  26.032759  6.392088   0.0  18.00000  0.0  1.202740  15.204173   \n2000-01-06  28.126556  6.615753   0.0  18.03125  0.0  1.179249  15.328290   \n2000-01-07  28.684900  6.686383   0.0  17.93750  0.0  1.212137  16.072983   \n\n               AMD  AAP        AES  ...       ZION  ZTS    XOM_1d    XOM_2d  \\\nDate                                ...                                       \n2000-01-03  15.500  0.0  28.582567  ...  41.202934  0.0 -0.019154  0.034317   \n2000-01-04  14.625  0.0  27.449125  ...  39.207741  0.0  0.054516  0.109032   \n2000-01-05  15.000  0.0  27.744810  ...  39.161343  0.0  0.051698  0.048611   \n2000-01-06  16.000  0.0  27.966566  ...  39.718132  0.0 -0.002935 -0.016875   \n2000-01-07  16.250  0.0  28.508648  ...  39.810936  0.0 -0.013981 -0.011037   \n\n              XOM_3d    XOM_4d    XOM_5d    XOM_6d    XOM_7d  XOM_target  \nDate                                                                      \n2000-01-03  0.087789  0.084597  0.069433  0.072626  0.066241           1  \n2000-01-04  0.105777  0.090317  0.093572  0.087063  0.112287           1  \n2000-01-05  0.033951  0.037038  0.030865  0.054784  0.033951           1  \n2000-01-06 -0.013939 -0.019809  0.002935 -0.016875 -0.005136           0  \n2000-01-07 -0.016924  0.005887 -0.013981 -0.002208  0.007358           0  \n\n[5 rows x 513 columns]",
      "text/html": "<div>\n<style scoped>\n    .dataframe tbody tr th:only-of-type {\n        vertical-align: middle;\n    }\n\n    .dataframe tbody tr th {\n        vertical-align: top;\n    }\n\n    .dataframe thead th {\n        text-align: right;\n    }\n</style>\n<table border=\"1\" class=\"dataframe\">\n  <thead>\n    <tr style=\"text-align: right;\">\n      <th></th>\n      <th>MMM</th>\n      <th>ABT</th>\n      <th>ABBV</th>\n      <th>ABMD</th>\n      <th>ACN</th>\n      <th>ATVI</th>\n      <th>ADBE</th>\n      <th>AMD</th>\n      <th>AAP</th>\n      <th>AES</th>\n      <th>...</th>\n      <th>ZION</th>\n      <th>ZTS</th>\n      <th>XOM_1d</th>\n      <th>XOM_2d</th>\n      <th>XOM_3d</th>\n      <th>XOM_4d</th>\n      <th>XOM_5d</th>\n      <th>XOM_6d</th>\n      <th>XOM_7d</th>\n      <th>XOM_target</th>\n    </tr>\n    <tr>\n      <th>Date</th>\n      <th></th>\n      <th></th>\n      <th></th>\n      <th></th>\n      <th></th>\n      <th></th>\n      <th></th>\n      <th></th>\n      <th></th>\n      <th></th>\n      <th></th>\n      <th></th>\n      <th></th>\n      <th></th>\n      <th></th>\n      <th></th>\n      <th></th>\n      <th></th>\n      <th></th>\n      <th></th>\n      <th></th>\n    </tr>\n  </thead>\n  <tbody>\n    <tr>\n      <th>2000-01-03</th>\n      <td>26.346825</td>\n      <td>6.592210</td>\n      <td>0.0</td>\n      <td>18.25000</td>\n      <td>0.0</td>\n      <td>1.235628</td>\n      <td>16.274673</td>\n      <td>15.500</td>\n      <td>0.0</td>\n      <td>28.582567</td>\n      <td>...</td>\n      <td>41.202934</td>\n      <td>0.0</td>\n      <td>-0.019154</td>\n      <td>0.034317</td>\n      <td>0.087789</td>\n      <td>0.084597</td>\n      <td>0.069433</td>\n      <td>0.072626</td>\n      <td>0.066241</td>\n      <td>1</td>\n    </tr>\n    <tr>\n      <th>2000-01-04</th>\n      <td>25.299936</td>\n      <td>6.403859</td>\n      <td>0.0</td>\n      <td>17.81250</td>\n      <td>0.0</td>\n      <td>1.198042</td>\n      <td>14.909401</td>\n      <td>14.625</td>\n      <td>0.0</td>\n      <td>27.449125</td>\n      <td>...</td>\n      <td>39.207741</td>\n      <td>0.0</td>\n      <td>0.054516</td>\n      <td>0.109032</td>\n      <td>0.105777</td>\n      <td>0.090317</td>\n      <td>0.093572</td>\n      <td>0.087063</td>\n      <td>0.112287</td>\n      <td>1</td>\n    </tr>\n    <tr>\n      <th>2000-01-05</th>\n      <td>26.032759</td>\n      <td>6.392088</td>\n      <td>0.0</td>\n      <td>18.00000</td>\n      <td>0.0</td>\n      <td>1.202740</td>\n      <td>15.204173</td>\n      <td>15.000</td>\n      <td>0.0</td>\n      <td>27.744810</td>\n      <td>...</td>\n      <td>39.161343</td>\n      <td>0.0</td>\n      <td>0.051698</td>\n      <td>0.048611</td>\n      <td>0.033951</td>\n      <td>0.037038</td>\n      <td>0.030865</td>\n      <td>0.054784</td>\n      <td>0.033951</td>\n      <td>1</td>\n    </tr>\n    <tr>\n      <th>2000-01-06</th>\n      <td>28.126556</td>\n      <td>6.615753</td>\n      <td>0.0</td>\n      <td>18.03125</td>\n      <td>0.0</td>\n      <td>1.179249</td>\n      <td>15.328290</td>\n      <td>16.000</td>\n      <td>0.0</td>\n      <td>27.966566</td>\n      <td>...</td>\n      <td>39.718132</td>\n      <td>0.0</td>\n      <td>-0.002935</td>\n      <td>-0.016875</td>\n      <td>-0.013939</td>\n      <td>-0.019809</td>\n      <td>0.002935</td>\n      <td>-0.016875</td>\n      <td>-0.005136</td>\n      <td>0</td>\n    </tr>\n    <tr>\n      <th>2000-01-07</th>\n      <td>28.684900</td>\n      <td>6.686383</td>\n      <td>0.0</td>\n      <td>17.93750</td>\n      <td>0.0</td>\n      <td>1.212137</td>\n      <td>16.072983</td>\n      <td>16.250</td>\n      <td>0.0</td>\n      <td>28.508648</td>\n      <td>...</td>\n      <td>39.810936</td>\n      <td>0.0</td>\n      <td>-0.013981</td>\n      <td>-0.011037</td>\n      <td>-0.016924</td>\n      <td>0.005887</td>\n      <td>-0.013981</td>\n      <td>-0.002208</td>\n      <td>0.007358</td>\n      <td>0</td>\n    </tr>\n  </tbody>\n</table>\n<p>5 rows × 513 columns</p>\n</div>"
     },
     "metadata": {},
     "execution_count": 42
    }
   ],
   "source": [
    "df.head()"
   ]
  },
  {
   "cell_type": "markdown",
   "metadata": {},
   "source": [
    "### Machine learning"
   ]
  },
  {
   "cell_type": "markdown",
   "metadata": {},
   "source": [
    "Scegliamo il ticker su cui lavorare"
   ]
  },
  {
   "cell_type": "code",
   "execution_count": 43,
   "metadata": {},
   "outputs": [],
   "source": [
    "ticker = 'XOM'"
   ]
  },
  {
   "cell_type": "code",
   "execution_count": 44,
   "metadata": {},
   "outputs": [
    {
     "output_type": "stream",
     "name": "stdout",
     "text": "Data spread:  Counter({'0': 2049, '1': 1585, '-1': 1397})\n"
    }
   ],
   "source": [
    "X, y, df = extract_featuresets(ticker)"
   ]
  },
  {
   "cell_type": "code",
   "execution_count": 45,
   "metadata": {},
   "outputs": [],
   "source": [
    "X_train, X_test, y_train, y_test = train_test_split(X, y, test_size=0.25)"
   ]
  },
  {
   "cell_type": "code",
   "execution_count": 46,
   "metadata": {},
   "outputs": [],
   "source": [
    "# clf = neighbors.KNeighborsClassifier()\n",
    "\n",
    "clf = VotingClassifier([\n",
    "    ('lsvc', svm.LinearSVC()),\n",
    "    ('knn', neighbors.KNeighborsClassifier()),\n",
    "    ('rfor', RandomForestClassifier())\n",
    "])"
   ]
  },
  {
   "cell_type": "code",
   "execution_count": 47,
   "metadata": {},
   "outputs": [
    {
     "output_type": "execute_result",
     "data": {
      "text/plain": "VotingClassifier(estimators=[('lsvc',\n                              LinearSVC(C=1.0, class_weight=None, dual=True,\n                                        fit_intercept=True, intercept_scaling=1,\n                                        loss='squared_hinge', max_iter=1000,\n                                        multi_class='ovr', penalty='l2',\n                                        random_state=None, tol=0.0001,\n                                        verbose=0)),\n                             ('knn',\n                              KNeighborsClassifier(algorithm='auto',\n                                                   leaf_size=30,\n                                                   metric='minkowski',\n                                                   metric_params=None,\n                                                   n_jobs=None, n_neighbors=5,\n                                                   p...\n                                                     criterion='gini',\n                                                     max_depth=None,\n                                                     max_features='auto',\n                                                     max_leaf_nodes=None,\n                                                     max_samples=None,\n                                                     min_impurity_decrease=0.0,\n                                                     min_impurity_split=None,\n                                                     min_samples_leaf=1,\n                                                     min_samples_split=2,\n                                                     min_weight_fraction_leaf=0.0,\n                                                     n_estimators=100,\n                                                     n_jobs=None,\n                                                     oob_score=False,\n                                                     random_state=None,\n                                                     verbose=0,\n                                                     warm_start=False))],\n                 flatten_transform=True, n_jobs=None, voting='hard',\n                 weights=None)"
     },
     "metadata": {},
     "execution_count": 47
    }
   ],
   "source": [
    "clf.fit(X_train, y_train)"
   ]
  },
  {
   "cell_type": "markdown",
   "metadata": {},
   "source": [
    "Avendo 3 classi, il random guessing corrisponde ad un accuracy del 33%"
   ]
  },
  {
   "cell_type": "code",
   "execution_count": 48,
   "metadata": {},
   "outputs": [
    {
     "output_type": "execute_result",
     "data": {
      "text/plain": "0.4260731319554849"
     },
     "metadata": {},
     "execution_count": 48
    }
   ],
   "source": [
    "accuracy = clf.score(X_test, y_test)\n",
    "accuracy"
   ]
  },
  {
   "cell_type": "code",
   "execution_count": 49,
   "metadata": {},
   "outputs": [
    {
     "output_type": "execute_result",
     "data": {
      "text/plain": "('Predicted spread: ', Counter({1: 197, 0: 853, -1: 208}))"
     },
     "metadata": {},
     "execution_count": 49
    }
   ],
   "source": [
    "predictions = clf.predict(X_test)\n",
    "\n",
    "'Predicted spread: ', Counter(predictions) "
   ]
  },
  {
   "cell_type": "code",
   "execution_count": null,
   "metadata": {},
   "outputs": [],
   "source": []
  }
 ]
}